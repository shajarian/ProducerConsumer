{
  "nbformat": 4,
  "nbformat_minor": 0,
  "metadata": {
    "colab": {
      "provenance": [],
      "authorship_tag": "ABX9TyMod7oBmwvUFx7eO2SMUPo8",
      "include_colab_link": true
    },
    "kernelspec": {
      "name": "python3",
      "display_name": "Python 3"
    },
    "language_info": {
      "name": "python"
    }
  },
  "cells": [
    {
      "cell_type": "markdown",
      "metadata": {
        "id": "view-in-github",
        "colab_type": "text"
      },
      "source": [
        "<a href=\"https://colab.research.google.com/github/shajarian/ProducerConsumer/blob/main/producerconsumer.ipynb\" target=\"_parent\"><img src=\"https://colab.research.google.com/assets/colab-badge.svg\" alt=\"Open In Colab\"/></a>"
      ]
    },
    {
      "cell_type": "code",
      "execution_count": null,
      "metadata": {
        "colab": {
          "base_uri": "https://localhost:8080/"
        },
        "id": "2ZUkvsMhC7D2",
        "outputId": "89e21127-2bd1-4b4a-adf2-1cb1b972f8f6"
      },
      "outputs": [
        {
          "output_type": "stream",
          "name": "stdout",
          "text": [
            "Produced 81\n",
            "Consumed 81\n",
            "Produced 93\n",
            "Produced 32\n",
            "Produced 97\n",
            "Consumed 93\n",
            "Produced 13Consumed 32\n",
            "\n",
            "Produced 15\n",
            "Consumed 97\n",
            "Consumed 13\n",
            "Consumed 15\n",
            "Produced 90\n",
            "Produced 15\n",
            "Produced 41\n",
            "Produced 69\n",
            "Consumed 90\n",
            "Consumed 15\n",
            "Consumed 41\n",
            "Consumed 69\n",
            "Done!\n"
          ]
        }
      ],
      "source": [
        "from multiprocessing import Process, Manager\n",
        "from random import randint\n",
        "from time import sleep\n",
        "\n",
        "def producer(shared_list):\n",
        "    for i in range(10):  # produce 10 items\n",
        "        item = randint(1, 100)  # produce an item\n",
        "        shared_list.append(item)\n",
        "        print(f\"Produced {item}\")\n",
        "        sleep(randint(0, 2))  # simulate variability in production time\n",
        "\n",
        "def consumer(shared_list):\n",
        "    for _ in range(10):  # consume 10 items\n",
        "        while len(shared_list) == 0:\n",
        "            sleep(0.1)  # wait for an item to be produced\n",
        "        item = shared_list.pop(0)\n",
        "        print(f\"Consumed {item}\")\n",
        "        sleep(randint(0, 2))  # simulate variability in consumption time\n",
        "\n",
        "if __name__ == \"__main__\":\n",
        "    with Manager() as manager:\n",
        "        # Create a List in shared memory\n",
        "        shared_list = manager.list()\n",
        "\n",
        "        # Creating producer and consumer processes\n",
        "        p = Process(target=producer, args=(shared_list,))\n",
        "        c = Process(target=consumer, args=(shared_list,))\n",
        "\n",
        "        # Starting the producer and consumer processes\n",
        "        p.start()\n",
        "        c.start()\n",
        "\n",
        "        # Waiting for both processes to finish\n",
        "        p.join()\n",
        "        c.join()\n",
        "\n",
        "        print(\"Done!\")\n"
      ]
    }
  ]
}